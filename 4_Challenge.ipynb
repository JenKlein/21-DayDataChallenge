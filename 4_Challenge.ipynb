{
 "cells": [
  {
   "cell_type": "markdown",
   "metadata": {},
   "source": [
    "### Challenge\n",
    "\n",
    "Dot doesn't travel to Europe often, so they decide to take the most expensive option for each course as well as drink. Create a new dictionary called `meals` that will contain the names of the courses as the keys (starters, mains...), and the name of the food or drink item  as the values.\n",
    "\n",
    "\n",
    "**After assembling the dictionary appropriately, when Dot gives a 10% tip on this meal, how much will the tip come out to?**\n"
   ]
  },
  {
   "cell_type": "code",
   "execution_count": 19,
   "metadata": {},
   "outputs": [],
   "source": [
    "starters = {\n",
    "    \"Potato Pancakes\": 7.99,\n",
    "    \"Salami Platter\": 10.29,\n",
    "    \"Brezel\": 6.99,\n",
    "    \"Maultaschen\": 9.99,\n",
    "    \"Fried Potatoes\": 4.99\n",
    "}\n",
    "\n",
    "mains = {\n",
    "    \"Braised Beef Short Ribs\": 18.99,\n",
    "    \"Paprika Beef Goulash\": 15.5,\n",
    "    \"Jager Schnitzel\": 16.99,\n",
    "    \"House-mase Bratwurst\": 11.99,\n",
    "    \"Kasespatzle\": 14.99,\n",
    "    \"German Ravioli\": 12.79,\n",
    "    \"Curry Wurst\": 10.99\n",
    "}\n",
    "\n",
    "desserts = {\n",
    "    \"Chilled Chocolate Fondant\": 7.9,\n",
    "    \"Pepermint Crisp Tart\": 5.9,\n",
    "    \"Ginger Cobbler\": 6.9,\n",
    "    \n",
    "}\n",
    "\n",
    "beers = {\n",
    "    \"Stigel Radler\": 6.9,\n",
    "    \"Munich Lager\": 7.9,\n",
    "    \"Kong Ludwig Weissbier\": 8.9,\n",
    "    \"Warsteiner Punkel\": 7.5,\n",
    "}\n"
   ]
  },
  {
   "cell_type": "code",
   "execution_count": 20,
   "metadata": {},
   "outputs": [],
   "source": [
    "starter_keys = list(starters.keys())\n",
    "mains_keys = list(mains.keys())\n",
    "desserts_keys = list(desserts.keys())\n",
    "beers_keys = list(beers.keys())\n"
   ]
  },
  {
   "cell_type": "code",
   "execution_count": 21,
   "metadata": {},
   "outputs": [
    {
     "data": {
      "text/plain": [
       "{'starters': 'Salami Platter',\n",
       " 'mains': 'Braised Beef Short Ribs',\n",
       " 'desserts': 'Chilled Chocolate Fondant',\n",
       " 'beers': 'Kong Ludwig Weissbier'}"
      ]
     },
     "execution_count": 21,
     "metadata": {},
     "output_type": "execute_result"
    }
   ],
   "source": [
    "# create empty dictionary\n",
    "meals = {}\n",
    "\n",
    "#populate with highest value items in each dictionary\n",
    "meals[\"starters\"] = starter_keys[1]\n",
    "meals[\"mains\"] = mains_keys[0]\n",
    "meals[\"desserts\"] = desserts_keys[0]\n",
    "meals[\"beers\"] = beers_keys[2]\n",
    "\n",
    "meals"
   ]
  },
  {
   "cell_type": "code",
   "execution_count": 22,
   "metadata": {},
   "outputs": [
    {
     "data": {
      "text/plain": [
       "4.608"
      ]
     },
     "execution_count": 22,
     "metadata": {},
     "output_type": "execute_result"
    }
   ],
   "source": [
    "dot_tip = (max(starters.values()) +\n",
    "           max(mains.values()) +\n",
    "           max(desserts.values()) +\n",
    "           max(beers.values())) * 0.1\n",
    "\n",
    "dot_tip"
   ]
  },
  {
   "cell_type": "code",
   "execution_count": 23,
   "metadata": {},
   "outputs": [
    {
     "data": {
      "text/plain": [
       "4.61"
      ]
     },
     "execution_count": 23,
     "metadata": {},
     "output_type": "execute_result"
    }
   ],
   "source": [
    "round(dot_tip, 2)"
   ]
  },
  {
   "cell_type": "code",
   "execution_count": 24,
   "metadata": {},
   "outputs": [],
   "source": [
    "# Dot's 10% tip on the most expensive items from each list is 4.61 euros"
   ]
  }
 ],
 "metadata": {
  "kernelspec": {
   "display_name": "Python 3",
   "language": "python",
   "name": "python3"
  },
  "language_info": {
   "codemirror_mode": {
    "name": "ipython",
    "version": 3
   },
   "file_extension": ".py",
   "mimetype": "text/x-python",
   "name": "python",
   "nbconvert_exporter": "python",
   "pygments_lexer": "ipython3",
   "version": "3.8.5"
  }
 },
 "nbformat": 4,
 "nbformat_minor": 4
}
