{
 "cells": [
  {
   "cell_type": "markdown",
   "metadata": {},
   "source": [
    "### Challenge \n",
    "\n",
    "Dot wants to find a connection to Europe that will give them the best value per hour of travel time. The following tickets are available for the connection:\n",
    "\n",
    "- Vancouver - Toronto: 250 CAD, travel time 3.5 hours\n",
    "- Vancouver - Ottawa: 280 CAD, travel time 4 hours\n",
    "- Vancouver - Montreal: 240 CAD, travel time 4 hours\n",
    "- Vancouver - Edmonton: 150 CAD, travel time 1.5 hours\n",
    "- Vancouver - Calgary: 180 CAD, travel time 1 hour\n",
    "\n",
    "These tickets are available for the second leg of the trip: \n",
    "\n",
    "- Ottawa - Berlin: 1350 CAD, layover: 3.5 hours, travel time 9 hours\n",
    "- Montreal - London: 1300 CAD, layover: 2 hours, travel time 8 hours\n",
    "- Edmonton - London: 1200 CAD, layover: 5 hours, travel time 10 hours\n",
    "- Calgary - London: 1400 CAD, layover: 2.5 hours, travel time 10 hours\n",
    "- Toronto - Munich: 990 CAD, layover: 1.5 hours, travel time 9.5 hours\n",
    "\n",
    "**Using math operators in Python, find out which flight will give Dot the best value per hour of travel time.**\n",
    "\n",
    "`value = price_paid / travel_time`"
   ]
  },
  {
   "cell_type": "code",
   "execution_count": 2,
   "metadata": {},
   "outputs": [],
   "source": [
    "van_tor_price = 250\n",
    "van_ott_price = 280\n",
    "van_mon_price = 240\n",
    "van_edm_price = 150\n",
    "van_cal_price = 180\n",
    "\n",
    "van_tor_travel_time = 3.5\n",
    "van_ott_travel_time = 4\n",
    "van_mon_travel_time = 4\n",
    "van_edm_travel_time = 1.5\n",
    "van_cal_travel_time = 1\n",
    "\n",
    "ott_ber_price = 1350\n",
    "mon_lon_price = 1300\n",
    "edm_lon_price = 1290\n",
    "cal_lon_price = 1400\n",
    "tor_mun_price = 990\n",
    "\n",
    "ott_layover = 3.5\n",
    "mon_layover = 2\n",
    "edm_layover = 5\n",
    "cal_layover = 2.5\n",
    "tor_layover = 1.5\n",
    "\n",
    "ott_ber_travel_time = 9\n",
    "mon_lon_travel_time = 8\n",
    "edm_lon_travel_time = 10\n",
    "cal_lon_travel_time = 10\n",
    "tor_mun_travel_time = 9.5"
   ]
  },
  {
   "cell_type": "code",
   "execution_count": 3,
   "metadata": {},
   "outputs": [],
   "source": [
    "## put in dictionary, so that key/value pairs are price_paid and travel_time\n",
    "## create empty list for value (price_paid/travel_time)\n",
    "## iterate through dictionary and calculate value\n",
    "## print min(value)"
   ]
  },
  {
   "cell_type": "code",
   "execution_count": 4,
   "metadata": {},
   "outputs": [],
   "source": [
    "# add the within-canada and canada-europe travel to get the total trip price\n",
    "van_tor_mun_price = van_tor_price + tor_mun_price\n",
    "van_ott_mun_price = van_ott_price + ott_ber_price\n",
    "van_mon_lon_price = van_mon_price + mon_lon_price\n",
    "van_edm_lon_price = van_edm_price + edm_lon_price\n",
    "van_cal_lon_price = van_cal_price + cal_lon_price\n",
    "\n",
    "# van_tor_mun_price \n",
    "# van_ott_mun_price \n",
    "# van_mon_lon_price \n",
    "# van_edm_lon_price \n",
    "# van_cal_lon_price "
   ]
  },
  {
   "cell_type": "code",
   "execution_count": 5,
   "metadata": {},
   "outputs": [],
   "source": [
    "# add the within-canada, layover and canada-europe time\n",
    "van_tor_mun_time = van_tor_travel_time + tor_layover + tor_mun_travel_time\n",
    "van_ott_ber_time = van_ott_travel_time + ott_layover + ott_ber_travel_time\n",
    "van_mon_lon_time = van_mon_travel_time + mon_layover + mon_lon_travel_time\n",
    "van_edm_lon_time = van_edm_travel_time + edm_layover + edm_lon_travel_time\n",
    "van_cal_lon_time = van_cal_travel_time + cal_layover + cal_lon_travel_time"
   ]
  },
  {
   "cell_type": "code",
   "execution_count": 11,
   "metadata": {},
   "outputs": [],
   "source": [
    "# create a dictionary with price and travel time as key value pairs\n",
    "dict = {van_tor_mun_price:van_tor_mun_time, \n",
    "        van_ott_mun_price:van_ott_ber_time,\n",
    "       van_mon_lon_price:van_mon_lon_time,\n",
    "       van_edm_lon_price:van_edm_lon_time,\n",
    "       van_cal_lon_price:van_cal_lon_time}"
   ]
  },
  {
   "cell_type": "code",
   "execution_count": 12,
   "metadata": {},
   "outputs": [
    {
     "data": {
      "text/plain": [
       "{1240: 14.5, 1630: 16.5, 1540: 14, 1440: 16.5, 1580: 13.5}"
      ]
     },
     "execution_count": 12,
     "metadata": {},
     "output_type": "execute_result"
    }
   ],
   "source": [
    "# confirm that the dictionary worked\n",
    "dict"
   ]
  },
  {
   "cell_type": "code",
   "execution_count": 25,
   "metadata": {},
   "outputs": [
    {
     "name": "stdout",
     "output_type": "stream",
     "text": [
      "[85.52, 98.79, 110.0, 87.27, 117.04]\n"
     ]
    }
   ],
   "source": [
    "# create empty list for values to be inserted into\n",
    "values = []\n",
    "\n",
    "#iterate through key value pairs in dictionary and divide key/value to get trip value\n",
    "for key, value in dict.items():\n",
    "    calculation = round(key/value, 2)\n",
    "    values.append(calculation)\n",
    "print(values)\n",
    "\n",
    "# minimum value in list\n",
    "GOAT_value = min(values)"
   ]
  },
  {
   "cell_type": "code",
   "execution_count": 27,
   "metadata": {},
   "outputs": [
    {
     "name": "stdout",
     "output_type": "stream",
     "text": [
      "Vancouver - Toronto - Munich has the lowest and therefore best value of $85.52/hour\n"
     ]
    }
   ],
   "source": [
    "print(\"Vancouver - Toronto - Munich has the lowest and therefore best value of $\" + str(GOAT_value) + \"/hour\")"
   ]
  },
  {
   "cell_type": "code",
   "execution_count": null,
   "metadata": {},
   "outputs": [],
   "source": []
  }
 ],
 "metadata": {
  "kernelspec": {
   "display_name": "Python 3",
   "language": "python",
   "name": "python3"
  },
  "language_info": {
   "codemirror_mode": {
    "name": "ipython",
    "version": 3
   },
   "file_extension": ".py",
   "mimetype": "text/x-python",
   "name": "python",
   "nbconvert_exporter": "python",
   "pygments_lexer": "ipython3",
   "version": "3.8.5"
  }
 },
 "nbformat": 4,
 "nbformat_minor": 4
}
