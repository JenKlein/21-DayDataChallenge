{
 "cells": [
  {
   "cell_type": "markdown",
   "metadata": {},
   "source": [
    "### Challenge\n",
    "\n",
    "The airport uses sensors to keep track of all its airplane gates, and monitor which ones are available. Every time an airplane needs to park at a gate, the system directs them to an available spot for their particular airplane type, or notifies them that no spots are available.\n",
    "\n",
    "We need to write a function called **find_the_gate()** that returns the coordinates of an available gate, or returns false if there is no available spot. Our function receives a list representing all gates, and a string with the type of the airplane that is looking for a gate.\n",
    "\n",
    "There are 2 kinds of possible airplanes: **Narrow-Body (Single aisle)** or **Wide-Body**.\n",
    "\n",
    "Wide-Body planes can only use gates in **W** spots.\n",
    "Narrow-Body planes can use gates in either **N** or **W** spots.\n",
    "In the list of gates, gates are written in either lower-case orupper-case. An upper-case letter means that the particular gate is **AVAILABLE**, while a lower-case letter means that the gate is **UNAVAILABLE**.\n",
    "\n",
    "Our function must return a number with the position of the gate where the airplane can park. See the example input and output below for an illustration.\n",
    "\n",
    "**Note**: There may be multiple available spots for a particular airplane. If that happens, our function should return the first possible spot to minimize the airplane taxiing time. If there are no available gates, remember to return boolean value False."
   ]
  },
  {
   "cell_type": "code",
   "execution_count": 1,
   "metadata": {},
   "outputs": [],
   "source": [
    "def find_the_gate(_list, plane):\n",
    "    for i in range(len(_list)):\n",
    "        if plane == \"wide\":\n",
    "            if _list[i] == 'W':\n",
    "                return i\n",
    "        else:\n",
    "            if (_list[i] == 'N') or (_list[i] == 'W'):\n",
    "                return i\n",
    "    return False"
   ]
  },
  {
   "cell_type": "code",
   "execution_count": 2,
   "metadata": {},
   "outputs": [
    {
     "name": "stdout",
     "output_type": "stream",
     "text": [
      "2\n",
      "3\n",
      "False\n"
     ]
    }
   ],
   "source": [
    "print(find_the_gate(\n",
    "  ['w','n','N'], 'narrow'\n",
    "))\n",
    "\n",
    "print(find_the_gate(\n",
    "  ['w','n','N','W','n','W'],'wide'\n",
    "))\n",
    "\n",
    "print(find_the_gate(\n",
    "  ['w','n','n','w','n','n'], 'narrow'\n",
    "))"
   ]
  },
  {
   "cell_type": "code",
   "execution_count": 3,
   "metadata": {},
   "outputs": [
    {
     "name": "stdout",
     "output_type": "stream",
     "text": [
      "15\n"
     ]
    }
   ],
   "source": [
    "print(find_the_gate(\n",
    "  ['w','n','n','w','N','n','w','N','N','w','n','n','w','n','n','W','W','W','W','n','n','w','n','n'], 'wide'\n",
    "))"
   ]
  },
  {
   "cell_type": "code",
   "execution_count": null,
   "metadata": {},
   "outputs": [],
   "source": []
  }
 ],
 "metadata": {
  "kernelspec": {
   "display_name": "Python 3",
   "language": "python",
   "name": "python3"
  },
  "language_info": {
   "codemirror_mode": {
    "name": "ipython",
    "version": 3
   },
   "file_extension": ".py",
   "mimetype": "text/x-python",
   "name": "python",
   "nbconvert_exporter": "python",
   "pygments_lexer": "ipython3",
   "version": "3.8.5"
  }
 },
 "nbformat": 4,
 "nbformat_minor": 4
}
