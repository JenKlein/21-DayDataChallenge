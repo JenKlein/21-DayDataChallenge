{
 "cells": [
  {
   "cell_type": "markdown",
   "metadata": {},
   "source": [
    "### Challenge\n",
    "\n",
    "1. **Find the region (using variable regionName) with the lowest total amount of light (using variable classWeight) traffic, and the region with the lowest total amount of heavy (using variable classWeight) traffic**\n",
    "2. **Using a bar chart, which month had the lowest amount of total traffic in 2020?**\n",
    "3. **What percent of New Zealand’s traffic (using variable trafficCount) was classified as heavy (using variable classWeight) in 2020?**"
   ]
  },
  {
   "cell_type": "code",
   "execution_count": null,
   "metadata": {},
   "outputs": [],
   "source": [
    "# We will be using data that contains traffic information for New Zealand during the year 2020.\n",
    "import pandas as pd\n",
    "df = pd.read_csv('nz_car_traffic.csv')\n",
    "df.head()\n",
    "# no csv file provided"
   ]
  },
  {
   "cell_type": "code",
   "execution_count": null,
   "metadata": {},
   "outputs": [],
   "source": [
    "# 1 - West Coast was region both highest and lowest \n",
    "grouped = df.groupby(['regionName','classWeight'])[['trafficCount']].sum().unstack()\n",
    "print(grouped.iloc[:,0].idxmin()) # heavy\n",
    "print(grouped.iloc[:,1].idxmin()) # light"
   ]
  },
  {
   "cell_type": "code",
   "execution_count": null,
   "metadata": {},
   "outputs": [],
   "source": [
    "# 2 - April had the lowest amount of total traffic in 2020\n",
    "df.groupby(\"month\").agg({\"trafficCount\":'sum'}).plot(kind='bar')"
   ]
  },
  {
   "cell_type": "code",
   "execution_count": null,
   "metadata": {},
   "outputs": [],
   "source": [
    "# 3 - 4.3% of NZ's traffic was classified as heavy in 2020\n",
    "df[df.classWeight == 'Heavy'].trafficCount.sum() / df.trafficCount.sum()"
   ]
  }
 ],
 "metadata": {
  "kernelspec": {
   "display_name": "Python 3",
   "language": "python",
   "name": "python3"
  },
  "language_info": {
   "codemirror_mode": {
    "name": "ipython",
    "version": 3
   },
   "file_extension": ".py",
   "mimetype": "text/x-python",
   "name": "python",
   "nbconvert_exporter": "python",
   "pygments_lexer": "ipython3",
   "version": "3.8.5"
  }
 },
 "nbformat": 4,
 "nbformat_minor": 4
}
