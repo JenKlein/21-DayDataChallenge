{
 "cells": [
  {
   "cell_type": "markdown",
   "metadata": {},
   "source": [
    "### Challenge\n",
    "\n",
    "Answer following questions using our database:\n",
    "\n",
    "1. **How many expeditions went to the peak of Everest?**\n",
    "2. **How many people went to the peak of Everest? (One person could have gone more than once)**"
   ]
  },
  {
   "cell_type": "code",
   "execution_count": null,
   "metadata": {},
   "outputs": [],
   "source": [
    "import sqlite3\n",
    "import pandas as pd\n",
    "conn = sqlite3.connect(\"himalayas.db\")\n",
    "# no db provided"
   ]
  },
  {
   "cell_type": "code",
   "execution_count": null,
   "metadata": {},
   "outputs": [],
   "source": [
    "len(pd.read_sql(\"\"\"\n",
    "    select E.expid,\n",
    "        p.pkname\n",
    "    from exped as E\n",
    "    inner join Peaks as P\n",
    "        on E.peakid = P.peakid\n",
    "    where pkname = 'Everest'\n",
    "\"\"\",conn))\n",
    "\n",
    "# 2,161 expediations when to the peak of Everest"
   ]
  },
  {
   "cell_type": "code",
   "execution_count": null,
   "metadata": {},
   "outputs": [],
   "source": [
    "len(pd.read_sql(\"\"\"\n",
    "    select P.pkname, \n",
    "        M.fname,\n",
    "        M.lname,\n",
    "        M.expid\n",
    "    from peaks as P\n",
    "    inner join members as M\n",
    "        on P.peakid = M.peakid\n",
    "    where P.pkname = 'Everest'\n",
    "\"\"\",conn))\n",
    "# 21,900 ppl went to Everest"
   ]
  }
 ],
 "metadata": {
  "kernelspec": {
   "display_name": "Python 3",
   "language": "python",
   "name": "python3"
  },
  "language_info": {
   "codemirror_mode": {
    "name": "ipython",
    "version": 3
   },
   "file_extension": ".py",
   "mimetype": "text/x-python",
   "name": "python",
   "nbconvert_exporter": "python",
   "pygments_lexer": "ipython3",
   "version": "3.8.5"
  }
 },
 "nbformat": 4,
 "nbformat_minor": 4
}
