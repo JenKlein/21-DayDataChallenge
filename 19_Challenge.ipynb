{
 "cells": [
  {
   "cell_type": "markdown",
   "metadata": {},
   "source": [
    "### Challenge\n",
    "\n",
    "Use air traffic data to help Dot by finding out which US city has the best connection with Vancouver.\n",
    "\n",
    "1. **What is the origin city (using variable ORIGIN_CITY_NAME) with the highest total number of passengers who travelled to Vancouver?**\n",
    "2. **According to our data, how many passengers travelled from that origin city to Vancouver?**\n",
    "3. **Use a histogram to plot the probability distribution of distances for all routes in June 2021.**"
   ]
  },
  {
   "cell_type": "code",
   "execution_count": null,
   "metadata": {},
   "outputs": [],
   "source": [
    "import pandas as pd\n",
    "import matplotlib.pyplot as plt\n",
    "\n",
    "df = pd.read_csv('air_traffic_data.csv')\n",
    "df.head()\n",
    "# no csv provided"
   ]
  },
  {
   "cell_type": "code",
   "execution_count": null,
   "metadata": {},
   "outputs": [],
   "source": [
    "df_van = df[df.DEST_CITY_NAME.str.contains(\"Vancouver\")]\n",
    "df_van.groupby('ORIGIN_CITY_NAME')[['PASSENGERS']].sum().sort_values(\"PASSENGERS\",ascending=False).head()\n",
    "# seattle was used by the most people travelling from Van, 17,109 people"
   ]
  },
  {
   "cell_type": "code",
   "execution_count": null,
   "metadata": {},
   "outputs": [],
   "source": [
    "plt.figure()\n",
    "plt.hist(df[df['MONTH'] == 6]['DISTANCE'], bins = 30) \n",
    "plt.show()\n",
    "# positive skew of distances"
   ]
  }
 ],
 "metadata": {
  "kernelspec": {
   "display_name": "Python 3",
   "language": "python",
   "name": "python3"
  },
  "language_info": {
   "codemirror_mode": {
    "name": "ipython",
    "version": 3
   },
   "file_extension": ".py",
   "mimetype": "text/x-python",
   "name": "python",
   "nbconvert_exporter": "python",
   "pygments_lexer": "ipython3",
   "version": "3.8.5"
  }
 },
 "nbformat": 4,
 "nbformat_minor": 4
}
