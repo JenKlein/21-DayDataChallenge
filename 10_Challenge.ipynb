{
 "cells": [
  {
   "cell_type": "markdown",
   "metadata": {},
   "source": [
    "### Challenge\n",
    "\n",
    "**Which neighborhood has the highest average property price and the highest size_in_sqft?**"
   ]
  },
  {
   "cell_type": "code",
   "execution_count": null,
   "metadata": {},
   "outputs": [],
   "source": [
    "import pandas as pd\n",
    "df = pd.read_csv('dubai_properties_data.csv')\n",
    "# unfortunately csv file not provided"
   ]
  },
  {
   "cell_type": "code",
   "execution_count": null,
   "metadata": {},
   "outputs": [],
   "source": [
    "neigh_avg_price =df.groupby(['neighborhood'])[['price']].mean()\n",
    "neigh_avg_price.sort_values(by=['price'], inplace=True,ascending=False).head(1)\n",
    "# Palm Jumeirah has highest avg price of 4.379435e+06"
   ]
  },
  {
   "cell_type": "code",
   "execution_count": null,
   "metadata": {},
   "outputs": [],
   "source": [
    "df.sort_values('size_in_sqft',inplace=True, ascending=False).head(1)\n",
    "# Dubai Festival City has greatest size of 2778.400 sqft"
   ]
  }
 ],
 "metadata": {
  "kernelspec": {
   "display_name": "Python 3",
   "language": "python",
   "name": "python3"
  },
  "language_info": {
   "codemirror_mode": {
    "name": "ipython",
    "version": 3
   },
   "file_extension": ".py",
   "mimetype": "text/x-python",
   "name": "python",
   "nbconvert_exporter": "python",
   "pygments_lexer": "ipython3",
   "version": "3.8.5"
  }
 },
 "nbformat": 4,
 "nbformat_minor": 4
}
