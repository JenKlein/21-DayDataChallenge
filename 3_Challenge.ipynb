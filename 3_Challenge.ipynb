{
 "cells": [
  {
   "cell_type": "markdown",
   "metadata": {},
   "source": [
    "### Challenge\n",
    "\n",
    "We need to find Dot an empty seat on the plane. We have logged the layout of the section of the plane as a Python list. This is formatted as  a **nested** list, which means that elements of the list are lists as well. Listception.\n",
    "\n",
    "\n",
    "**Note:** Our plane section contains three sections of seats in each row, and three seats in each section. Here is what the values in the layout mean: \n",
    "- `e` = empty seat\n",
    "- `o` = occupied seat\n",
    "- None = aisle (you can't sit here!)\n",
    "- Capital letters = window seats\n",
    "\n",
    "```python\n",
    "layout = [\n",
    "    [\"O\",\"e\",\"e\",None, \"e\",\"o\",\"e\",None, \"o\",\"o\",\"E\"], # row 1\n",
    "    [\"O\",\"o\",\"e\",None, \"e\",\"o\",\"e\",None, \"e\",\"o\",\"E\"], # row 2\n",
    "    [\"O\",\"o\",\"o\",None, \"o\",\"o\",\"e\",None, \"o\",\"e\",\"O\"], # row 3\n",
    "    [\"E\",\"o\",\"e\",None, \"e\",\"o\",\"e\",None, \"o\",\"e\",\"E\"], # row 4 \n",
    "    [\"E\",\"e\",\"o\",None, \"e\",\"e\",\"e\",None, \"o\",\"o\",\"E\"], # row 5\n",
    "    [\"O\",\"e\",\"e\",None, \"e\",\"e\",\"e\",None, \"e\",\"e\",\"E\"]  # row 6\n",
    "]\n",
    "``` \n",
    "\n",
    "Dot has two conditions for their sitting:\n",
    "- It has to be window seat\n",
    "- The next seat needs to be empty\n",
    "\n",
    "**Identify the right place for Dot to sit. If there is more than one option that matches the conditions above, choose the seat that is closer to the front, i.e. has a lower row number. What is the list index of Dot's seat?**\n"
   ]
  },
  {
   "cell_type": "code",
   "execution_count": 22,
   "metadata": {},
   "outputs": [],
   "source": [
    "# needs to be capital\n",
    "# needs to be E\n",
    "# needs to be earliest row \n",
    "# needs to be empty next to her"
   ]
  },
  {
   "cell_type": "code",
   "execution_count": 23,
   "metadata": {},
   "outputs": [],
   "source": [
    "layout = [\n",
    "    [\"O\",\"e\",\"e\",None, \"e\",\"o\",\"e\",None, \"o\",\"o\",\"E\"], # row 1\n",
    "    [\"O\",\"o\",\"e\",None, \"e\",\"o\",\"e\",None, \"e\",\"o\",\"E\"], # row 2\n",
    "    [\"O\",\"o\",\"o\",None, \"o\",\"o\",\"e\",None, \"o\",\"e\",\"O\"], # row 3\n",
    "    [\"E\",\"o\",\"e\",None, \"e\",\"o\",\"e\",None, \"o\",\"e\",\"E\"], # row 4 \n",
    "    [\"E\",\"e\",\"o\",None, \"e\",\"e\",\"e\",None, \"o\",\"o\",\"E\"], # row 5\n",
    "    [\"O\",\"e\",\"e\",None, \"e\",\"e\",\"e\",None, \"e\",\"e\",\"E\"]  # row 6\n",
    "]"
   ]
  },
  {
   "cell_type": "code",
   "execution_count": 24,
   "metadata": {},
   "outputs": [
    {
     "data": {
      "text/plain": [
       "'E'"
      ]
     },
     "execution_count": 24,
     "metadata": {},
     "output_type": "execute_result"
    }
   ],
   "source": [
    "# row 4, position 11 is Dot's desired seat\n",
    "# index of Dot's desired seat is layout[3][-1]\n",
    "layout[3][-1]"
   ]
  },
  {
   "cell_type": "code",
   "execution_count": 25,
   "metadata": {},
   "outputs": [],
   "source": [
    "# attempt at using for loops to return index position of Dot's desired seat\n",
    "\n",
    "# n = 0\n",
    "# p = 0 \n",
    "\n",
    "# for row in layout:\n",
    "  \n",
    "#     for seat in row:\n",
    "#         if seat == \"E\" and seat[p+1] == \"e\" or seat[p-1] == \"e\":\n",
    "#             print(min(p))\n",
    "#             break\n",
    "#         else:\n",
    "#             n = n + 1\n",
    "                               "
   ]
  },
  {
   "cell_type": "markdown",
   "metadata": {},
   "source": [
    "#### Stretch Question\n",
    "\n",
    "**Use python's pop() and insert() list functions to change Dot's seat from `E` to `O`.**\n",
    "\n",
    "*Stretch Questions are not required to be completed to finish the challenge but are recommended to further develop your skills.*\n",
    "\n",
    "```\n",
    "new_layout = ...\n",
    "```"
   ]
  },
  {
   "cell_type": "code",
   "execution_count": 27,
   "metadata": {},
   "outputs": [
    {
     "data": {
      "text/plain": [
       "[['O', 'e', 'e', None, 'e', 'o', 'e', None, 'o', 'o', 'E'],\n",
       " ['O', 'o', 'e', None, 'e', 'o', 'e', None, 'e', 'o', 'E'],\n",
       " ['O', 'o', 'o', None, 'o', 'o', 'e', None, 'o', 'e', 'O'],\n",
       " ['E', 'o', 'e', None, 'e', 'o', 'e', None, 'o', 'e', 'O'],\n",
       " ['E', 'e', 'o', None, 'e', 'e', 'e', None, 'o', 'o', 'E'],\n",
       " ['O', 'e', 'e', None, 'e', 'e', 'e', None, 'e', 'e', 'E']]"
      ]
     },
     "execution_count": 27,
     "metadata": {},
     "output_type": "execute_result"
    }
   ],
   "source": [
    "#mark Dot's seat as occupied\n",
    "new_layout = layout\n",
    "new_layout[3].insert(-1,'O')\n",
    "new_layout[3].pop(-1)\n",
    "new_layout"
   ]
  },
  {
   "cell_type": "code",
   "execution_count": null,
   "metadata": {},
   "outputs": [],
   "source": []
  }
 ],
 "metadata": {
  "kernelspec": {
   "display_name": "Python 3",
   "language": "python",
   "name": "python3"
  },
  "language_info": {
   "codemirror_mode": {
    "name": "ipython",
    "version": 3
   },
   "file_extension": ".py",
   "mimetype": "text/x-python",
   "name": "python",
   "nbconvert_exporter": "python",
   "pygments_lexer": "ipython3",
   "version": "3.8.5"
  }
 },
 "nbformat": 4,
 "nbformat_minor": 4
}
