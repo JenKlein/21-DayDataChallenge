{
 "cells": [
  {
   "cell_type": "markdown",
   "metadata": {},
   "source": [
    "### Challenge\n",
    "\n",
    "We need to find Dot an empty seat on the plane. We have logged the layout of the section of the plane as a Python list. This is formatted as  a **nested** list, which means that elements of the list are lists as well. Listception.\n",
    "\n",
    "\n",
    "**Note:** Our plane section contains three sections of seats in each row, and three seats in each section. Here is what the values in the layout mean: \n",
    "- `e` = empty seat\n",
    "- `o` = occupied seat\n",
    "- None = aisle (you can't sit here!)\n",
    "- Capital letters = window seats\n",
    "\n",
    "```python\n",
    "layout = [\n",
    "    [\"O\",\"e\",\"e\",None, \"e\",\"o\",\"e\",None, \"o\",\"o\",\"E\"], # row 1\n",
    "    [\"O\",\"o\",\"e\",None, \"e\",\"o\",\"e\",None, \"e\",\"o\",\"E\"], # row 2\n",
    "    [\"O\",\"o\",\"o\",None, \"o\",\"o\",\"e\",None, \"o\",\"e\",\"O\"], # row 3\n",
    "    [\"E\",\"o\",\"e\",None, \"e\",\"o\",\"e\",None, \"o\",\"e\",\"E\"], # row 4 \n",
    "    [\"E\",\"e\",\"o\",None, \"e\",\"e\",\"e\",None, \"o\",\"o\",\"E\"], # row 5\n",
    "    [\"O\",\"e\",\"e\",None, \"e\",\"e\",\"e\",None, \"e\",\"e\",\"E\"]  # row 6\n",
    "]\n",
    "``` \n",
    "\n",
    "Dot has two conditions for their sitting:\n",
    "- It has to be window seat\n",
    "- The next seat needs to be empty\n",
    "\n",
    "**Identify the right place for Dot to sit. If there is more than one option that matches the conditions above, choose the seat that is closer to the front, i.e. has a lower row number. What is the list index of Dot's seat?**\n"
   ]
  },
  {
   "cell_type": "markdown",
   "metadata": {},
   "source": [
    "#### Stretch Question\n",
    "\n",
    "**Use python's pop() and insert() list functions to change Dot's seat from `E` to `O`.**\n",
    "\n",
    "*Stretch Questions are not required to be completed to finish the challenge but are recommended to further develop your skills.*\n",
    "\n",
    "```\n",
    "new_layout = ...\n",
    "```"
   ]
  },
  {
   "cell_type": "code",
   "execution_count": 3,
   "metadata": {},
   "outputs": [],
   "source": [
    "# needs to be capital\n",
    "# needs to be E\n",
    "# needs to be earliest row \n",
    "# needs to be empty next to her"
   ]
  },
  {
   "cell_type": "code",
   "execution_count": 4,
   "metadata": {},
   "outputs": [],
   "source": [
    "layout = [\n",
    "    [\"O\",\"e\",\"e\",None, \"e\",\"o\",\"e\",None, \"o\",\"o\",\"E\"], # row 1\n",
    "    [\"O\",\"o\",\"e\",None, \"e\",\"o\",\"e\",None, \"e\",\"o\",\"E\"], # row 2\n",
    "    [\"O\",\"o\",\"o\",None, \"o\",\"o\",\"e\",None, \"o\",\"e\",\"O\"], # row 3\n",
    "    [\"E\",\"o\",\"e\",None, \"e\",\"o\",\"e\",None, \"o\",\"e\",\"E\"], # row 4 \n",
    "    [\"E\",\"e\",\"o\",None, \"e\",\"e\",\"e\",None, \"o\",\"o\",\"E\"], # row 5\n",
    "    [\"O\",\"e\",\"e\",None, \"e\",\"e\",\"e\",None, \"e\",\"e\",\"E\"]  # row 6\n",
    "]"
   ]
  },
  {
   "cell_type": "code",
   "execution_count": 36,
   "metadata": {},
   "outputs": [
    {
     "name": "stdout",
     "output_type": "stream",
     "text": [
      "0\n",
      "0\n"
     ]
    },
    {
     "ename": "TypeError",
     "evalue": "'NoneType' object is not subscriptable",
     "output_type": "error",
     "traceback": [
      "\u001b[0;31m---------------------------------------------------------------------------\u001b[0m",
      "\u001b[0;31mTypeError\u001b[0m                                 Traceback (most recent call last)",
      "\u001b[0;32m<ipython-input-36-c22210d7a701>\u001b[0m in \u001b[0;36m<module>\u001b[0;34m\u001b[0m\n\u001b[1;32m      5\u001b[0m \u001b[0;34m\u001b[0m\u001b[0m\n\u001b[1;32m      6\u001b[0m     \u001b[0;32mfor\u001b[0m \u001b[0mseat\u001b[0m \u001b[0;32min\u001b[0m \u001b[0mrow\u001b[0m\u001b[0;34m:\u001b[0m\u001b[0;34m\u001b[0m\u001b[0;34m\u001b[0m\u001b[0m\n\u001b[0;32m----> 7\u001b[0;31m         \u001b[0;32mif\u001b[0m \u001b[0mseat\u001b[0m \u001b[0;34m==\u001b[0m \u001b[0;34m\"E\"\u001b[0m \u001b[0;32mand\u001b[0m \u001b[0mseat\u001b[0m\u001b[0;34m[\u001b[0m\u001b[0mp\u001b[0m\u001b[0;34m+\u001b[0m\u001b[0;36m1\u001b[0m\u001b[0;34m]\u001b[0m \u001b[0;34m==\u001b[0m \u001b[0;34m\"e\"\u001b[0m \u001b[0;32mor\u001b[0m \u001b[0mseat\u001b[0m\u001b[0;34m[\u001b[0m\u001b[0mp\u001b[0m\u001b[0;34m-\u001b[0m\u001b[0;36m1\u001b[0m\u001b[0;34m]\u001b[0m \u001b[0;34m==\u001b[0m \u001b[0;34m\"e\"\u001b[0m\u001b[0;34m:\u001b[0m\u001b[0;34m\u001b[0m\u001b[0;34m\u001b[0m\u001b[0m\n\u001b[0m\u001b[1;32m      8\u001b[0m             \u001b[0mprint\u001b[0m\u001b[0;34m(\u001b[0m\u001b[0mp\u001b[0m\u001b[0;34m)\u001b[0m\u001b[0;34m\u001b[0m\u001b[0;34m\u001b[0m\u001b[0m\n\u001b[1;32m      9\u001b[0m \u001b[0;31m#                  index = seat.index(p)\u001b[0m\u001b[0;34m\u001b[0m\u001b[0;34m\u001b[0m\u001b[0;34m\u001b[0m\u001b[0m\n",
      "\u001b[0;31mTypeError\u001b[0m: 'NoneType' object is not subscriptable"
     ]
    }
   ],
   "source": [
    "n = 0\n",
    "p = 0 \n",
    "\n",
    "for row in layout:\n",
    "\n",
    "    for seat in row:\n",
    "        if seat == \"E\" and seat[p+1] == \"e\" or seat[p-1] == \"e\":\n",
    "            print(min(p))\n",
    "            end\n",
    "            \n",
    "#                  index = seat.index(p)\n",
    "\n",
    "# print(min(index))\n",
    "                               "
   ]
  },
  {
   "cell_type": "code",
   "execution_count": null,
   "metadata": {},
   "outputs": [],
   "source": []
  }
 ],
 "metadata": {
  "kernelspec": {
   "display_name": "Python 3",
   "language": "python",
   "name": "python3"
  },
  "language_info": {
   "codemirror_mode": {
    "name": "ipython",
    "version": 3
   },
   "file_extension": ".py",
   "mimetype": "text/x-python",
   "name": "python",
   "nbconvert_exporter": "python",
   "pygments_lexer": "ipython3",
   "version": "3.8.5"
  }
 },
 "nbformat": 4,
 "nbformat_minor": 4
}
