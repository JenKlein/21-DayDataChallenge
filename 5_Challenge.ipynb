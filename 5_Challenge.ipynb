{
 "cells": [
  {
   "cell_type": "markdown",
   "metadata": {},
   "source": [
    "### Challenge\n",
    "\n",
    "Dot wants to visit all the London landmarks where the wait time is less than 15 minutes. We have a dictionary called landmarks, within which landmark names are keys and wait times are their respective values.\n",
    "\n",
    "\n",
    "**Using Python, develop a list of the landmarks where the wait time is less than 15 minutes. What will be the length of the list?**"
   ]
  },
  {
   "cell_type": "code",
   "execution_count": 2,
   "metadata": {},
   "outputs": [],
   "source": [
    "# dictionary where \n",
    "landmarks = {\n",
    "    \"Big Ben\": 12,\n",
    "    \"Tower Bridge\": 25,\n",
    "    \"Buckingham Palace\": 15,\n",
    "    \"Madame Tussauds\": 25,\n",
    "    \"London Eye\": 40,\n",
    "    \"Tower of London\": 25,\n",
    "    \"Emirates Air Line cable car\": 16,\n",
    "    \"London Transport Museum\": 7,\n",
    "    \"Wembley Stadium\": 8,\n",
    "    \"Hyde Park\": 0,\n",
    "    \"The View from The Shard\": 14\n",
    "}"
   ]
  },
  {
   "cell_type": "code",
   "execution_count": 7,
   "metadata": {},
   "outputs": [
    {
     "data": {
      "text/plain": [
       "['Big Ben',\n",
       " 'Tower Bridge',\n",
       " 'Buckingham Palace',\n",
       " 'Madame Tussauds',\n",
       " 'London Eye',\n",
       " 'Tower of London',\n",
       " 'Emirates Air Line cable car',\n",
       " 'London Transport Museum',\n",
       " 'Wembley Stadium',\n",
       " 'Hyde Park',\n",
       " 'The View from The Shard']"
      ]
     },
     "execution_count": 7,
     "metadata": {},
     "output_type": "execute_result"
    }
   ],
   "source": [
    "# create list of dictionary keys\n",
    "keys = list(landmarks.keys())\n",
    "keys"
   ]
  },
  {
   "cell_type": "code",
   "execution_count": 12,
   "metadata": {},
   "outputs": [
    {
     "data": {
      "text/plain": [
       "[12, 25, 15, 25, 40, 25, 16, 7, 8, 0, 14]"
      ]
     },
     "execution_count": 12,
     "metadata": {},
     "output_type": "execute_result"
    }
   ],
   "source": [
    "# create list of dictionary values \n",
    "values = list(landmarks.values())\n",
    "values"
   ]
  },
  {
   "cell_type": "code",
   "execution_count": 15,
   "metadata": {},
   "outputs": [
    {
     "name": "stdout",
     "output_type": "stream",
     "text": [
      "['Big Ben', 'London Transport Museum', 'Wembley Stadium', 'Hyde Park', 'The View from The Shard'] 5\n"
     ]
    }
   ],
   "source": [
    "#create empty list\n",
    "below15mins = []\n",
    "\n",
    "# for each value in keys, if the associated value is less than 15 mins, append to the empty list\n",
    "for i in range(len(keys)):\n",
    "    if values[i] < 15:\n",
    "        below15mins.append(keys[i])\n",
    "        \n",
    "# list of landmarks where wait time is less than 15 mins, a list of 5 landmarks     \n",
    "print(below15mins, len(below15mins))"
   ]
  },
  {
   "cell_type": "code",
   "execution_count": null,
   "metadata": {},
   "outputs": [],
   "source": []
  }
 ],
 "metadata": {
  "kernelspec": {
   "display_name": "Python 3",
   "language": "python",
   "name": "python3"
  },
  "language_info": {
   "codemirror_mode": {
    "name": "ipython",
    "version": 3
   },
   "file_extension": ".py",
   "mimetype": "text/x-python",
   "name": "python",
   "nbconvert_exporter": "python",
   "pygments_lexer": "ipython3",
   "version": "3.8.5"
  }
 },
 "nbformat": 4,
 "nbformat_minor": 4
}
