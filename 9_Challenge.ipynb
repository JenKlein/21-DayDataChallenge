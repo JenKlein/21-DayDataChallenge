{
 "cells": [
  {
   "cell_type": "markdown",
   "metadata": {},
   "source": [
    "### Challenge\n",
    "\n",
    "Answer the following questions using the data:\n",
    "- **How many Italian wines have a lower percentage of alcohol than 13%**\n",
    "- **How many wines are there in class 3?**\n"
   ]
  },
  {
   "cell_type": "code",
   "execution_count": null,
   "metadata": {},
   "outputs": [],
   "source": [
    "import pandas as pd\n",
    "df = pd.read_csv('wine.csv')\n",
    "df.head()\n",
    "# unfortunately the CSV file is not provided so cannot be run"
   ]
  },
  {
   "cell_type": "code",
   "execution_count": null,
   "metadata": {},
   "outputs": [],
   "source": [
    "len(df.Alcohol < 13)\n",
    "#86 wines have an alcohol percentage below 13%"
   ]
  },
  {
   "cell_type": "code",
   "execution_count": null,
   "metadata": {},
   "outputs": [],
   "source": [
    "len(df.Class == 3)\n",
    "#there are 48 class 3 wines"
   ]
  },
  {
   "cell_type": "markdown",
   "metadata": {},
   "source": [
    "#### Stretch Questions\n",
    "- How many wines have level of magnesium between 90 and 100?\n",
    "- How many wines have level of magnesium higher than 90, and a percentage of alcohol lower than 13.5%?"
   ]
  },
  {
   "cell_type": "code",
   "execution_count": null,
   "metadata": {},
   "outputs": [],
   "source": [
    "len(df[df.Magnesium.between(90,100)])\n",
    "# 48 wines have a magnesium level between 90-100"
   ]
  },
  {
   "cell_type": "code",
   "execution_count": null,
   "metadata": {},
   "outputs": [],
   "source": [
    "len(df[(df.Magnesium > 90) & (df.Alcohol < 13.5)])\n",
    "#71 wines have a magnesium level above 90, and alcohol percentage lower than 13.5%"
   ]
  }
 ],
 "metadata": {
  "kernelspec": {
   "display_name": "Python 3",
   "language": "python",
   "name": "python3"
  },
  "language_info": {
   "codemirror_mode": {
    "name": "ipython",
    "version": 3
   },
   "file_extension": ".py",
   "mimetype": "text/x-python",
   "name": "python",
   "nbconvert_exporter": "python",
   "pygments_lexer": "ipython3",
   "version": "3.8.5"
  }
 },
 "nbformat": 4,
 "nbformat_minor": 4
}
