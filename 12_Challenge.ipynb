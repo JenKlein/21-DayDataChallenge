{
 "cells": [
  {
   "cell_type": "markdown",
   "metadata": {},
   "source": [
    "### Challenge\n",
    "\n",
    "\n",
    "**Step I**: Using the season column, filter the DataFrame so it contains only rows from summer and winter.\n",
    "\n",
    "**Step II**:Using **groupby()** and **unstack()**, compute the difference between the average temperature in summer and winter(at 9am) for all locations.\n",
    "\n",
    "**Question**: What is the difference between the average temperatures in summer and winter in Adelaide, Albany and Albury?"
   ]
  },
  {
   "cell_type": "code",
   "execution_count": null,
   "metadata": {},
   "outputs": [],
   "source": [
    "df = df[df.season.isin([\"winter\",\"summer\"])]\n",
    "unstack = df.groupby([\"Location\",\"season\"])[['Temp9am']].mean().unstack()\n",
    "(unstack.iloc[:,0] - unstack.iloc[:,1]).tail(6)"
   ]
  },
  {
   "cell_type": "code",
   "execution_count": null,
   "metadata": {},
   "outputs": [],
   "source": [
    "# difference in avg temps in summer and winter\n",
    "print((unstack.iloc[:,0] - unstack.iloc[:,1])['Adelaide']) # 10.71286498520401\n",
    "print((unstack.iloc[:,0] - unstack.iloc[:,1])['Albany']) # 7.395200302343159\n",
    "print((unstack.iloc[:,0] - unstack.iloc[:,1])['Albury']) # 14.257000981580923"
   ]
  }
 ],
 "metadata": {
  "kernelspec": {
   "display_name": "Python 3",
   "language": "python",
   "name": "python3"
  },
  "language_info": {
   "codemirror_mode": {
    "name": "ipython",
    "version": 3
   },
   "file_extension": ".py",
   "mimetype": "text/x-python",
   "name": "python",
   "nbconvert_exporter": "python",
   "pygments_lexer": "ipython3",
   "version": "3.8.5"
  }
 },
 "nbformat": 4,
 "nbformat_minor": 4
}
