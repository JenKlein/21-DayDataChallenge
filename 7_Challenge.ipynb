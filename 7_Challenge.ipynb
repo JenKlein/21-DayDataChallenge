{
 "cells": [
  {
   "cell_type": "markdown",
   "metadata": {},
   "source": [
    "### Challenge\n",
    "\n",
    "To help Dot learn more about FC Barcelona’s statistics, we have the historical La Liga results of the 1988/1989 season.\n",
    "\n",
    "**Dot needs you to figure out the answers to the following questions:**\n",
    " \n",
    "1. What is the maximum amount of games Barcelona playes in 1 season?\n",
    "2. What is the average attendance across the seasons?\n",
    "3. What is the difference between median value of wins and losses?\n",
    "4. What is the minimum number of games Barcelona managed to win in 1 season?\n",
    "5. What is the difference between max and min amount of points Barcelona was able to get in all seasons?\n",
    "     \n"
   ]
  },
  {
   "cell_type": "code",
   "execution_count": null,
   "metadata": {},
   "outputs": [],
   "source": [
    "# unfortunately the CSV file is not provided, so the outputs cannot be run without errors"
   ]
  },
  {
   "cell_type": "code",
   "execution_count": null,
   "metadata": {},
   "outputs": [],
   "source": [
    "import pandas as pd\n",
    "import numpy as np\n",
    "df = pd.read_csv('fc_barcelona.csv')\n",
    "df.head()"
   ]
  },
  {
   "cell_type": "code",
   "execution_count": null,
   "metadata": {},
   "outputs": [],
   "source": [
    "points = df.Pts\n",
    "games_played = df.MP\n",
    "wins = df.W\n",
    "losses = df.L\n",
    "attendance = df.Attendance.dropna() # skipping missing values (NaN) because there were no fans during 2020-2021 season because of COVID"
   ]
  },
  {
   "cell_type": "code",
   "execution_count": null,
   "metadata": {},
   "outputs": [],
   "source": [
    "# What is the maximum amount of games Barcelona playes in 1 season?\n",
    "max_games = max(games_played)\n",
    "max_games"
   ]
  },
  {
   "cell_type": "code",
   "execution_count": null,
   "metadata": {},
   "outputs": [],
   "source": [
    "# What is the average attendance across the seasons?\n",
    "avg_attendance = np.mean(attendance)\n",
    "avg_attendance"
   ]
  },
  {
   "cell_type": "code",
   "execution_count": null,
   "metadata": {},
   "outputs": [],
   "source": [
    "# What is the difference between median value of wins and losses?\n",
    "diff = np.median(wins)-np.median(losses)\n",
    "diff"
   ]
  },
  {
   "cell_type": "code",
   "execution_count": null,
   "metadata": {},
   "outputs": [],
   "source": [
    "# What is the minimum number of games Barcelona managed to win in 1 season?\n",
    "min_wins = min(wins)\n",
    "min_wins"
   ]
  },
  {
   "cell_type": "code",
   "execution_count": null,
   "metadata": {},
   "outputs": [],
   "source": [
    "# What is the difference between max and min amount of points Barcelona was able to get in all seasons?\n",
    "points_diff = max(points)-min(points)\n",
    "points_diff"
   ]
  },
  {
   "cell_type": "code",
   "execution_count": null,
   "metadata": {},
   "outputs": [],
   "source": [
    "print(max_games,avg_attendance, diff, min_wins, points_diff)"
   ]
  }
 ],
 "metadata": {
  "kernelspec": {
   "display_name": "Python 3",
   "language": "python",
   "name": "python3"
  },
  "language_info": {
   "codemirror_mode": {
    "name": "ipython",
    "version": 3
   },
   "file_extension": ".py",
   "mimetype": "text/x-python",
   "name": "python",
   "nbconvert_exporter": "python",
   "pygments_lexer": "ipython3",
   "version": "3.8.5"
  }
 },
 "nbformat": 4,
 "nbformat_minor": 4
}
