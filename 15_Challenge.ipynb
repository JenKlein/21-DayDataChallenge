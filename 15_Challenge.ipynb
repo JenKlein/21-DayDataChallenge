{
 "cells": [
  {
   "cell_type": "markdown",
   "metadata": {},
   "source": [
    "### Challenge\n",
    "\n",
    "Use our database to answer the following questions:\n",
    "\n",
    "1. **How many peaks are higher than 8000 metres?** Use the **len()** function to count the number of rows of the DataFrame that were returned by the **pd.read_sql()** function.\n",
    "\n",
    "2. **How many women (sex = 'F') were part of the expeditions?**"
   ]
  },
  {
   "cell_type": "code",
   "execution_count": null,
   "metadata": {},
   "outputs": [],
   "source": [
    "# observe data\n",
    "pd.read_sql('select * from peaks',conn)"
   ]
  },
  {
   "cell_type": "code",
   "execution_count": null,
   "metadata": {},
   "outputs": [],
   "source": [
    "# 1- 16 peaks above 8000m (using len function)\n",
    "\n",
    "len(pd.read_sql(\"\"\"\n",
    "            SELECT *\n",
    "            FROM peaks\n",
    "            WHERE heightm >= 8000\n",
    "            \"\"\"\n",
    "            ,conn))"
   ]
  },
  {
   "cell_type": "code",
   "execution_count": null,
   "metadata": {},
   "outputs": [],
   "source": [
    "# 1- same answer as above using SQL count function\n",
    "pd.read_sql(\"\"\"\n",
    "            SELECT count(*)\n",
    "            FROM peaks\n",
    "            WHERE heightm >= 8000\n",
    "            \"\"\"\n",
    "            ,conn)"
   ]
  },
  {
   "cell_type": "code",
   "execution_count": null,
   "metadata": {},
   "outputs": [],
   "source": [
    "# 2- 7254 women expeditioned\n",
    "pd.read_sql(\"\"\"\n",
    "            SELECT count(*)\n",
    "            FROM peaks\n",
    "            WHERE sex = 'F'\n",
    "            \"\"\"\n",
    "            ,conn)"
   ]
  }
 ],
 "metadata": {
  "kernelspec": {
   "display_name": "Python 3",
   "language": "python",
   "name": "python3"
  },
  "language_info": {
   "codemirror_mode": {
    "name": "ipython",
    "version": 3
   },
   "file_extension": ".py",
   "mimetype": "text/x-python",
   "name": "python",
   "nbconvert_exporter": "python",
   "pygments_lexer": "ipython3",
   "version": "3.8.5"
  }
 },
 "nbformat": 4,
 "nbformat_minor": 4
}
