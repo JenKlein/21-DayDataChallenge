{
 "cells": [
  {
   "cell_type": "markdown",
   "metadata": {},
   "source": [
    "### Challenge\n",
    "\n",
    "Play around with the scatterplot and test out different correlations between the numerical variables in the dataset. Then, help Dot by answering these questions:\n",
    "\n",
    "1. **What kind of correlation is there between `Receipts (bn $)` and `% of GNP`?**\n",
    "\n",
    "2. **What is the correlation coefficient between `Receipts (bn $)` and `% of GNP`?**\n",
    "\n",
    "3. **Which columns have the highest correlation?**\n",
    "\n",
    "Is the correlation visible in a scatterplot as well?"
   ]
  },
  {
   "cell_type": "code",
   "execution_count": null,
   "metadata": {},
   "outputs": [],
   "source": [
    "import pandas as pd\n",
    "import matplotlib.pyplot as plt\n",
    "\n",
    "df = pd.read_csv('thai_tourism.csv')\n",
    "df.head()"
   ]
  },
  {
   "cell_type": "code",
   "execution_count": null,
   "metadata": {},
   "outputs": [],
   "source": [
    "plt.figure()\n",
    "plt.scatter(x = df['Receipts (bn $)'], y = df['% of GNP'])\n",
    "plt.show()\n",
    "# positive correlation between receipts and % of GNP"
   ]
  },
  {
   "cell_type": "code",
   "execution_count": null,
   "metadata": {},
   "outputs": [],
   "source": [
    "df.corr()\n",
    "# 0.932489 is the correlation coefficient, which indicates the two variables are highly correlated. \n",
    "# receipts and number of tourists have the highest correlation of 0.994426"
   ]
  },
  {
   "cell_type": "code",
   "execution_count": null,
   "metadata": {},
   "outputs": [],
   "source": []
  }
 ],
 "metadata": {
  "kernelspec": {
   "display_name": "Python 3",
   "language": "python",
   "name": "python3"
  },
  "language_info": {
   "codemirror_mode": {
    "name": "ipython",
    "version": 3
   },
   "file_extension": ".py",
   "mimetype": "text/x-python",
   "name": "python",
   "nbconvert_exporter": "python",
   "pygments_lexer": "ipython3",
   "version": "3.8.5"
  }
 },
 "nbformat": 4,
 "nbformat_minor": 4
}
